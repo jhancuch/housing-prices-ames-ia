{
 "cells": [
  {
   "cell_type": "markdown",
   "id": "58296d21-3058-4ef2-a6d8-e194e0a170d3",
   "metadata": {
    "tags": []
   },
   "source": [
    "# Ames, IA Housing Price EDA and Modeling"
   ]
  },
  {
   "cell_type": "markdown",
   "id": "5635998f-cc73-4473-a2d1-14afe3f427c9",
   "metadata": {},
   "source": [
    "## Ingest"
   ]
  },
  {
   "cell_type": "markdown",
   "id": "ea152d64-74b2-4c10-a695-1f18161e744f",
   "metadata": {},
   "source": [
    "## EDA"
   ]
  },
  {
   "cell_type": "markdown",
   "id": "9395ee31-074c-4cbc-96b6-5bfc8dd5749f",
   "metadata": {},
   "source": [
    "## Modeling"
   ]
  },
  {
   "cell_type": "markdown",
   "id": "c16483cb-6ea4-4aef-81f6-f960cd713c6e",
   "metadata": {},
   "source": [
    "## Conclusion"
   ]
  },
  {
   "cell_type": "code",
   "execution_count": null,
   "id": "ce0f2b31-5717-411a-a37b-a8e71439c180",
   "metadata": {},
   "outputs": [],
   "source": []
  }
 ],
 "metadata": {
  "kernelspec": {
   "display_name": "Python 3 (ipykernel)",
   "language": "python",
   "name": "python3"
  },
  "language_info": {
   "codemirror_mode": {
    "name": "ipython",
    "version": 3
   },
   "file_extension": ".py",
   "mimetype": "text/x-python",
   "name": "python",
   "nbconvert_exporter": "python",
   "pygments_lexer": "ipython3",
   "version": "3.9.7"
  },
  "toc-autonumbering": false
 },
 "nbformat": 4,
 "nbformat_minor": 5
}
