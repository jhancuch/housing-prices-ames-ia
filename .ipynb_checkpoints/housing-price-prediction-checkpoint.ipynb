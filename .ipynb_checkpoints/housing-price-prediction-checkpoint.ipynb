{
 "cells": [
  {
   "cell_type": "markdown",
   "id": "2ea7e557-630c-4fa4-8036-2c42815f4817",
   "metadata": {},
   "source": [
    "# EDA and Modeling of Housing Prices in Ames, IA"
   ]
  },
  {
   "cell_type": "code",
   "execution_count": 2,
   "id": "fd50b7f1-2a87-4942-bd3f-e54de4897714",
   "metadata": {},
   "outputs": [],
   "source": [
    "# Libraries\n",
    "import pandas as pd"
   ]
  },
  {
   "cell_type": "markdown",
   "id": "5635998f-cc73-4473-a2d1-14afe3f427c9",
   "metadata": {},
   "source": [
    "## Ingest"
   ]
  },
  {
   "cell_type": "code",
   "execution_count": 5,
   "id": "520a4631-ab4d-4975-a554-1902d363bc29",
   "metadata": {},
   "outputs": [],
   "source": [
    "train = pd.read_csv('https://raw.githubusercontent.com/jhancuch/housing-prices-ames-ia/main/data/train.csv')\n",
    "test = pd.read_csv('https://raw.githubusercontent.com/jhancuch/housing-prices-ames-ia/main/data/test.csv')"
   ]
  },
  {
   "cell_type": "markdown",
   "id": "ea152d64-74b2-4c10-a695-1f18161e744f",
   "metadata": {},
   "source": [
    "## EDA"
   ]
  },
  {
   "cell_type": "code",
   "execution_count": null,
   "id": "979318a8-7ba6-458a-9ad0-a14feb2e8cd0",
   "metadata": {},
   "outputs": [],
   "source": []
  },
  {
   "cell_type": "markdown",
   "id": "9395ee31-074c-4cbc-96b6-5bfc8dd5749f",
   "metadata": {},
   "source": [
    "## Modeling"
   ]
  },
  {
   "cell_type": "code",
   "execution_count": null,
   "id": "7b81dc65-c95a-42b7-957a-4610302dc2dd",
   "metadata": {},
   "outputs": [],
   "source": []
  },
  {
   "cell_type": "markdown",
   "id": "c16483cb-6ea4-4aef-81f6-f960cd713c6e",
   "metadata": {},
   "source": [
    "## Conclusion"
   ]
  },
  {
   "cell_type": "code",
   "execution_count": null,
   "id": "ce0f2b31-5717-411a-a37b-a8e71439c180",
   "metadata": {},
   "outputs": [],
   "source": []
  }
 ],
 "metadata": {
  "kernelspec": {
   "display_name": "Python 3 (ipykernel)",
   "language": "python",
   "name": "python3"
  },
  "language_info": {
   "codemirror_mode": {
    "name": "ipython",
    "version": 3
   },
   "file_extension": ".py",
   "mimetype": "text/x-python",
   "name": "python",
   "nbconvert_exporter": "python",
   "pygments_lexer": "ipython3",
   "version": "3.9.7"
  },
  "toc-autonumbering": false
 },
 "nbformat": 4,
 "nbformat_minor": 5
}
